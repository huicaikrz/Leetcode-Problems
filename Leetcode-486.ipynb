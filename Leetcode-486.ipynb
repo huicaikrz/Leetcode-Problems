{
 "cells": [
  {
   "cell_type": "markdown",
   "metadata": {},
   "source": [
    "# 486. Predict the Winner\n",
    "\n",
    "Difficulity: Medium\n",
    "\n",
    "Type: Recursion/Dynamic Programming\n",
    "\n",
    "Details: https://leetcode.com/problems/predict-the-winner/"
   ]
  },
  {
   "cell_type": "code",
   "execution_count": null,
   "metadata": {},
   "outputs": [],
   "source": [
    "# Solution 1. recursion, p1 for player1 sum, p2 for player2 sum, turn == 0 for player1's turn\n",
    "def dp(nums,p1,p2,turn):\n",
    "    if not nums:\n",
    "        return p1 >= p2\n",
    "    if turn:\n",
    "        return dp(nums[1:],p1,p2+nums[0],0) and dp(nums[:-1],p1,p2+nums[-1],0)\n",
    "    return dp(nums[1:],p1+nums[0],p2,1) or dp(nums[:-1],p1+nums[-1],p2,1)\n",
    "\n",
    "class Solution:\n",
    "    def PredictTheWinner(self, nums):\n",
    "        \"\"\"\n",
    "        :type nums: List[int]\n",
    "        :rtype: bool\n",
    "        \"\"\"\n",
    "        return dp(nums,0,0,0)"
   ]
  },
  {
   "cell_type": "code",
   "execution_count": null,
   "metadata": {},
   "outputs": [],
   "source": [
    "# Solution 2. dynamic programming\n",
    "# for position i,j in the matrix, they denote the left index and right index of the array (the leftover array)\n",
    "# for each position in the index, the first number is the score of player1, the second number is the score of player2\n",
    "class Solution(object):\n",
    "    def PredictTheWinner(self, nums):\n",
    "        \"\"\"\n",
    "        :type nums: List[int]\n",
    "        :rtype: bool\n",
    "        \"\"\"\n",
    "        if len(nums)%2 == 0 or len(nums) == 1:\n",
    "            return True\n",
    "\n",
    "        n = len(nums)\n",
    "        dp = [[[0,0] for row in range(n)] for _ in range(n)]\n",
    "        \n",
    "        # bottom up, build each case starting from problem with 1 number in a game:\n",
    "        # base case: only 1 number, player 1 pick first, player 2 will be left with 0 number game, aka 0\n",
    "        # each dp[i][j] will store [bestScore, leftOver]\n",
    "        for i in range(n):\n",
    "            dp[i][i] = [nums[i], 0]\n",
    "        \n",
    "        # sub divide the game into list from index i to j \n",
    "        # now start from 2 number game [i][j]:\n",
    "        # if player 1 pick i, player 2 will pick the bestScore of game [i+1][j], then player 1 is left with the leftOver of game [i+1][j]\n",
    "        # if player 1 pick j, player 2 will pick the bestScore of game [i][j-1], then player 1 is left with the leftOver of game [i][j-1]\n",
    "        # player 1 will choose the best case in above scenarios\n",
    "\n",
    "        for length in xrange(2,n+1):\n",
    "            for i in range(n-length+1):\n",
    "                j = i + length-1\n",
    "                # pick i:\n",
    "                pi = dp[i+1][j][1] + nums[i]\n",
    "                # pick j:\n",
    "                pj = dp[i][j-1][1] + nums[j]\n",
    "                if pi > pj:\n",
    "                    dp[i][j][0] = pi\n",
    "                    dp[i][j][1] = dp[i+1][j][0]\n",
    "\n",
    "                else:\n",
    "                    dp[i][j][0] = pj\n",
    "                    dp[i][j][1] = dp[i][j-1][0]\n",
    "\n",
    "        return dp[0][-1][0] >= dp[0][-1][1]"
   ]
  }
 ],
 "metadata": {
  "kernelspec": {
   "display_name": "Python 3",
   "language": "python",
   "name": "python3"
  },
  "language_info": {
   "codemirror_mode": {
    "name": "ipython",
    "version": 3
   },
   "file_extension": ".py",
   "mimetype": "text/x-python",
   "name": "python",
   "nbconvert_exporter": "python",
   "pygments_lexer": "ipython3",
   "version": "3.6.5"
  }
 },
 "nbformat": 4,
 "nbformat_minor": 2
}
