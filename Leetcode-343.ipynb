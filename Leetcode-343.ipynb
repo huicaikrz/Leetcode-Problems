{
 "cells": [
  {
   "cell_type": "markdown",
   "metadata": {},
   "source": [
    "# 343. Integer Break\n",
    "\n",
    "Difficulity: Medium\n",
    "\n",
    "Type: Math + Dynamic Programming\n",
    "\n",
    "Details: https://leetcode.com/problems/integer-break/"
   ]
  },
  {
   "cell_type": "code",
   "execution_count": null,
   "metadata": {},
   "outputs": [],
   "source": [
    "#Solution 1. no math DP algorithm, slower\n",
    "class Solution:\n",
    "    def integerBreak(self, n):\n",
    "        \"\"\"\n",
    "        :type n: int\n",
    "        :rtype: int\n",
    "        \"\"\"\n",
    "        if n == 2:\n",
    "            return 1\n",
    "        if n == 3:\n",
    "            return 2\n",
    "        \n",
    "        output = {1:1,2:2,3:3}\n",
    "        for x in range(4,n+1):\n",
    "            max_i = 0\n",
    "            for i in range(2,x):\n",
    "                max_i = max(max_i,output[x-i]*output[i],(x-i)*i)\n",
    "            output[x] = max_i\n",
    "        return output[n]"
   ]
  },
  {
   "cell_type": "code",
   "execution_count": null,
   "metadata": {},
   "outputs": [],
   "source": [
    "#Solution 2. do best to find 3 or 2\n",
    "class Solution(object):\n",
    "    def integerBreak(self, n):\n",
    "        \"\"\"\n",
    "        :type n: int\n",
    "        :rtype: int\n",
    "        \"\"\"\n",
    "        if n == 2:\n",
    "            return 1\n",
    "        if n == 3:\n",
    "            return 2\n",
    "        list_3 = [3] * (n/3) # generate a list of 3\n",
    "        mod_3 = n%3\n",
    "        if mod_3 == 1: # if a 1 is left, then add it to the first element to get a 4\n",
    "            list_3[0] += 1\n",
    "        if mod_3 == 2: # if a 2 is left, then put it into the list\n",
    "            list_3.append(2)\n",
    "        return reduce(lambda a, b: a*b, list_3)"
   ]
  }
 ],
 "metadata": {
  "kernelspec": {
   "display_name": "Python 3",
   "language": "python",
   "name": "python3"
  },
  "language_info": {
   "codemirror_mode": {
    "name": "ipython",
    "version": 3
   },
   "file_extension": ".py",
   "mimetype": "text/x-python",
   "name": "python",
   "nbconvert_exporter": "python",
   "pygments_lexer": "ipython3",
   "version": "3.6.5"
  }
 },
 "nbformat": 4,
 "nbformat_minor": 2
}
