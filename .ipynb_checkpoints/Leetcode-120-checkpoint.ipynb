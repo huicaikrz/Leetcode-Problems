{
 "cells": [
  {
   "cell_type": "markdown",
   "metadata": {},
   "source": [
    "# 120. Triangle\n",
    "\n",
    "Difficulity: Medium\n",
    "\n",
    "Type: Dynamic Programming\n",
    "\n",
    "Details: https://leetcode.com/problems/triangle/"
   ]
  },
  {
   "cell_type": "code",
   "execution_count": null,
   "metadata": {},
   "outputs": [],
   "source": [
    "class Solution:\n",
    "    def minimumTotal(self, triangle):\n",
    "        \"\"\"\n",
    "        :type triangle: List[List[int]]\n",
    "        :rtype: int\n",
    "        \"\"\"\n",
    "        n = len(triangle)\n",
    "        if n == 1:\n",
    "            return triangle[0][0]\n",
    "        output = [[] for i in range(n)]\n",
    "        \n",
    "        output[0].append(triangle[0][0])\n",
    "        for i in range(1,n):\n",
    "            for j in range(i+1):\n",
    "                if j == i:\n",
    "                    output[i].append(triangle[i][j]+ output[i-1][-1])\n",
    "                elif j == 0:\n",
    "                    output[i].append(triangle[i][j]+output[i-1][0])\n",
    "                else:\n",
    "                    output[i].append(min(output[i-1][j],output[i-1][j-1])+triangle[i][j])\n",
    "        return min(output[-1])"
   ]
  }
 ],
 "metadata": {
  "kernelspec": {
   "display_name": "Python 3",
   "language": "python",
   "name": "python3"
  },
  "language_info": {
   "codemirror_mode": {
    "name": "ipython",
    "version": 3
   },
   "file_extension": ".py",
   "mimetype": "text/x-python",
   "name": "python",
   "nbconvert_exporter": "python",
   "pygments_lexer": "ipython3",
   "version": "3.6.5"
  }
 },
 "nbformat": 4,
 "nbformat_minor": 2
}
