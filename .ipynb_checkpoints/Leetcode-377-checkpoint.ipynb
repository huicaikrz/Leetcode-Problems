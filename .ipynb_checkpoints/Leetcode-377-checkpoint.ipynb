{
 "cells": [
  {
   "cell_type": "markdown",
   "metadata": {},
   "source": [
    "# 377. Combination Sum IV\n",
    "\n",
    "Difficulity: Medium\n",
    "\n",
    "Type: Dynamic Programming\n",
    "\n",
    "Details: https://leetcode.com/problems/combination-sum-iv"
   ]
  },
  {
   "cell_type": "code",
   "execution_count": null,
   "metadata": {},
   "outputs": [],
   "source": [
    "class Solution:\n",
    "    def combinationSum4(self, nums, target):\n",
    "        \"\"\"\n",
    "        :type nums: List[int]\n",
    "        :type target: int\n",
    "        :rtype: int\n",
    "        \"\"\"\n",
    "        nums = sorted(nums)\n",
    "        combs = [1] + [0] * (target)\n",
    "        for i in range(target + 1):\n",
    "            for num in nums:\n",
    "                if num > i: \n",
    "                    break\n",
    "                if num == i: \n",
    "                    combs[i] += 1\n",
    "                if num < i: \n",
    "                    combs[i] += combs[i - num]\n",
    "        return combs[target]"
   ]
  }
 ],
 "metadata": {
  "kernelspec": {
   "display_name": "Python 3",
   "language": "python",
   "name": "python3"
  },
  "language_info": {
   "codemirror_mode": {
    "name": "ipython",
    "version": 3
   },
   "file_extension": ".py",
   "mimetype": "text/x-python",
   "name": "python",
   "nbconvert_exporter": "python",
   "pygments_lexer": "ipython3",
   "version": "3.6.5"
  }
 },
 "nbformat": 4,
 "nbformat_minor": 2
}
