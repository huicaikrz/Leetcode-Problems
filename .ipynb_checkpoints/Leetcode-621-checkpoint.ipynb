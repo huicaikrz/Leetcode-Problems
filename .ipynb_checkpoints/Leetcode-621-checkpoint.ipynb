{
 "cells": [
  {
   "cell_type": "markdown",
   "metadata": {},
   "source": [
    "# 621. Task Scheduler\n",
    "\n",
    "Difficulity: Medium\n",
    "\n",
    "Idea: Direct Calculation \n",
    "\n",
    "Details: https://leetcode.com/problems/task-scheduler/"
   ]
  },
  {
   "cell_type": "code",
   "execution_count": null,
   "metadata": {},
   "outputs": [],
   "source": [
    "class Solution:\n",
    "    def leastInterval(self, tasks, n):\n",
    "        \"\"\"\n",
    "        :type tasks: List[str]\n",
    "        :type n: int\n",
    "        :rtype: int\n",
    "        \"\"\"\n",
    "        d = collections.Counter(tasks)\n",
    "        counts = d.values()\n",
    "        longest = max(counts)\n",
    "        ans = (longest - 1) * (n + 1)\n",
    "        for count in counts:\n",
    "            ans += count == longest\n",
    "        return max(len(tasks), ans)"
   ]
  }
 ],
 "metadata": {
  "kernelspec": {
   "display_name": "Python 3",
   "language": "python",
   "name": "python3"
  },
  "language_info": {
   "codemirror_mode": {
    "name": "ipython",
    "version": 3
   },
   "file_extension": ".py",
   "mimetype": "text/x-python",
   "name": "python",
   "nbconvert_exporter": "python",
   "pygments_lexer": "ipython3",
   "version": "3.6.5"
  }
 },
 "nbformat": 4,
 "nbformat_minor": 2
}
