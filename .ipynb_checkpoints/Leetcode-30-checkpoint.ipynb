{
 "cells": [
  {
   "cell_type": "markdown",
   "metadata": {},
   "source": [
    "# 30. Substring with Concatenation of All Words\n",
    "\n",
    "Difficulity: Hard\n",
    "\n",
    "Details: https://leetcode.com/problems/substring-with-concatenation-of-all-words/\n",
    "\n",
    "Note: use dictionary to count"
   ]
  },
  {
   "cell_type": "code",
   "execution_count": null,
   "metadata": {},
   "outputs": [],
   "source": [
    "class Solution:\n",
    "    def findSubstring(self, s, words):\n",
    "        \"\"\"\n",
    "        :type s: str\n",
    "        :type words: List[str]\n",
    "        :rtype: List[int]\n",
    "        \"\"\"\n",
    "        \n",
    "        output = []\n",
    "        if len(words) == 0:\n",
    "            return output\n",
    "        lw = len(words[0])\n",
    "        window = lw*len(words)\n",
    "        if window > len(s):\n",
    "            return output\n",
    "        w_dict = {w:0 for w in words}\n",
    "        for w in words:\n",
    "            w_dict[w] += 1\n",
    "            \n",
    "        pos = [lw*i for i in range(len(words))]\n",
    "        for i in range(len(s)-window+1):\n",
    "            new_w = dict(w_dict)\n",
    "            check = s[i:i+window]\n",
    "            w_list = [check[p:p+lw] for p in pos]\n",
    "            for w in w_list:\n",
    "                try:\n",
    "                    new_w[w] -= 1\n",
    "                except:\n",
    "                    continue\n",
    "        \n",
    "            if list(new_w.values()) == ([0]*len(new_w)):   \n",
    "                output.append(i)    \n",
    "        return output"
   ]
  }
 ],
 "metadata": {
  "kernelspec": {
   "display_name": "Python 3",
   "language": "python",
   "name": "python3"
  },
  "language_info": {
   "codemirror_mode": {
    "name": "ipython",
    "version": 3
   },
   "file_extension": ".py",
   "mimetype": "text/x-python",
   "name": "python",
   "nbconvert_exporter": "python",
   "pygments_lexer": "ipython3",
   "version": "3.6.5"
  }
 },
 "nbformat": 4,
 "nbformat_minor": 2
}
