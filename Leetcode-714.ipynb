{
 "cells": [
  {
   "cell_type": "markdown",
   "metadata": {},
   "source": [
    "# 714. Best Time to Buy and Sell Stock with Transaction Fee\n",
    "\n",
    "Difficulity: Medium\n",
    "\n",
    "Type: Dynamic Programming\n",
    "\n",
    "Details: https://leetcode.com/problems/best-time-to-buy-and-sell-stock-with-transaction-fee/"
   ]
  },
  {
   "cell_type": "code",
   "execution_count": null,
   "metadata": {},
   "outputs": [],
   "source": [
    "class Solution(object):\n",
    "    def maxProfit(self, prices, fee):\n",
    "        cash, hold = 0, -prices[0]\n",
    "        for i in range(1, len(prices)):\n",
    "            #if there's profit, take it\n",
    "            cash = max(cash, hold + prices[i] - fee)\n",
    "            #if there's lower price to buy, buy, lower the cost with cash\n",
    "            hold = max(hold, cash - prices[i])\n",
    "        return cash"
   ]
  }
 ],
 "metadata": {
  "kernelspec": {
   "display_name": "Python 3",
   "language": "python",
   "name": "python3"
  },
  "language_info": {
   "codemirror_mode": {
    "name": "ipython",
    "version": 3
   },
   "file_extension": ".py",
   "mimetype": "text/x-python",
   "name": "python",
   "nbconvert_exporter": "python",
   "pygments_lexer": "ipython3",
   "version": "3.6.5"
  }
 },
 "nbformat": 4,
 "nbformat_minor": 2
}
