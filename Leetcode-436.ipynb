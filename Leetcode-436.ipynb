{
 "cells": [
  {
   "cell_type": "markdown",
   "metadata": {},
   "source": [
    "# 436. Find Right Interval\n",
    "\n",
    "Difficulity: Medium\n",
    "\n",
    "Idea: Sort + Binary Search\n",
    "\n",
    "Details: https://leetcode.com/problems/find-right-interval/"
   ]
  },
  {
   "cell_type": "code",
   "execution_count": null,
   "metadata": {},
   "outputs": [],
   "source": [
    "# Definition for an interval.\n",
    "# class Interval:\n",
    "#     def __init__(self, s=0, e=0):\n",
    "#         self.start = s\n",
    "#         self.end = e\n",
    "\n",
    "class Solution:\n",
    "    def findRightInterval(self, intervals):\n",
    "        \"\"\"\n",
    "        :type intervals: List[Interval]\n",
    "        :rtype: List[int]\n",
    "        \"\"\"\n",
    "        l = sorted([(itvl.start,i) for i,itvl in enumerate(intervals)])+[(float('inf'),-1)]\n",
    "        return [l[bisect.bisect_left(l, (itvl.end,))][1] for itvl in intervals]"
   ]
  }
 ],
 "metadata": {
  "kernelspec": {
   "display_name": "Python 3",
   "language": "python",
   "name": "python3"
  },
  "language_info": {
   "codemirror_mode": {
    "name": "ipython",
    "version": 3
   },
   "file_extension": ".py",
   "mimetype": "text/x-python",
   "name": "python",
   "nbconvert_exporter": "python",
   "pygments_lexer": "ipython3",
   "version": "3.6.5"
  }
 },
 "nbformat": 4,
 "nbformat_minor": 2
}
