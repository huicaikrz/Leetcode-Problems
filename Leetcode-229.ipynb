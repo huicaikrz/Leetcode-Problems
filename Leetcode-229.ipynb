{
 "cells": [
  {
   "cell_type": "markdown",
   "metadata": {},
   "source": [
    "# 229. Majority Element II\n",
    "\n",
    "Difficulity: Medium\n",
    "\n",
    "Type: Boyer-Moore Majority Vote algorithm\n",
    "\n",
    "Details: https://leetcode.com/problems/majority-element-ii/"
   ]
  },
  {
   "cell_type": "code",
   "execution_count": null,
   "metadata": {},
   "outputs": [],
   "source": [
    "class Solution:\n",
    "    def majorityElement(self, nums):\n",
    "        \"\"\"\n",
    "        :type nums: List[int]\n",
    "        :rtype: List[int]\n",
    "        \"\"\"\n",
    "        ctr = collections.Counter()\n",
    "        for n in nums:\n",
    "            ctr[n] += 1\n",
    "            if len(ctr) == 3:\n",
    "                ctr -= collections.Counter(set(ctr))\n",
    "        return [n for n in ctr if nums.count(n) > len(nums)/3]"
   ]
  }
 ],
 "metadata": {
  "kernelspec": {
   "display_name": "Python 3",
   "language": "python",
   "name": "python3"
  },
  "language_info": {
   "codemirror_mode": {
    "name": "ipython",
    "version": 3
   },
   "file_extension": ".py",
   "mimetype": "text/x-python",
   "name": "python",
   "nbconvert_exporter": "python",
   "pygments_lexer": "ipython3",
   "version": "3.6.5"
  }
 },
 "nbformat": 4,
 "nbformat_minor": 2
}
